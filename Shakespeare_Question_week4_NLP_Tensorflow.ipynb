{
  "nbformat": 4,
  "nbformat_minor": 0,
  "metadata": {
    "accelerator": "GPU",
    "colab": {
      "name": "Shakespeare_Question_week4_NLP_Tensorflow.ipynb",
      "provenance": [],
      "toc_visible": true,
      "include_colab_link": true
    },
    "kernelspec": {
      "display_name": "Python 3",
      "name": "python3"
    }
  },
  "cells": [
    {
      "cell_type": "markdown",
      "metadata": {
        "id": "view-in-github",
        "colab_type": "text"
      },
      "source": [
        "<a href=\"https://colab.research.google.com/github/VarshiniP28/Tensorflow-Coursera/blob/master/Shakespeare_Question_week4_NLP_Tensorflow.ipynb\" target=\"_parent\"><img src=\"https://colab.research.google.com/assets/colab-badge.svg\" alt=\"Open In Colab\"/></a>"
      ]
    },
    {
      "cell_type": "code",
      "metadata": {
        "id": "zX4Kg8DUTKWO",
        "colab_type": "code",
        "colab": {}
      },
      "source": [
        "#@title Licensed under the Apache License, Version 2.0 (the \"License\");\n",
        "# you may not use this file except in compliance with the License.\n",
        "# You may obtain a copy of the License at\n",
        "#\n",
        "# https://www.apache.org/licenses/LICENSE-2.0\n",
        "#\n",
        "# Unless required by applicable law or agreed to in writing, software\n",
        "# distributed under the License is distributed on an \"AS IS\" BASIS,\n",
        "# WITHOUT WARRANTIES OR CONDITIONS OF ANY KIND, either express or implied.\n",
        "# See the License for the specific language governing permissions and\n",
        "# limitations under the License."
      ],
      "execution_count": null,
      "outputs": []
    },
    {
      "cell_type": "code",
      "metadata": {
        "colab_type": "code",
        "id": "BOwsuGQQY9OL",
        "colab": {}
      },
      "source": [
        "from tensorflow.keras.preprocessing.sequence import pad_sequences\n",
        "from tensorflow.keras.layers import Embedding, LSTM, Dense, Dropout, Bidirectional\n",
        "from tensorflow.keras.preprocessing.text import Tokenizer\n",
        "from tensorflow.keras.models import Sequential\n",
        "from tensorflow.keras.optimizers import Adam\n",
        "\n",
        "from tensorflow.keras import regularizers\n",
        "\n",
        "import tensorflow.keras.utils as ku \n",
        "import numpy as np "
      ],
      "execution_count": null,
      "outputs": []
    },
    {
      "cell_type": "code",
      "metadata": {
        "colab_type": "code",
        "id": "PRnDnCW-Z7qv",
        "colab": {
          "base_uri": "https://localhost:8080/",
          "height": 228
        },
        "outputId": "0deb7963-1870-4717-ade6-da80978cf8ea"
      },
      "source": [
        "tokenizer = Tokenizer()\n",
        "!wget --no-check-certificate \\\n",
        "    https://storage.googleapis.com/laurencemoroney-blog.appspot.com/sonnets.txt \\\n",
        "    -O /tmp/sonnets.txt\n",
        "data = open('/tmp/sonnets.txt').read()\n",
        "\n",
        "corpus = data.lower().split(\"\\n\")\n",
        "\n",
        "\n",
        "tokenizer.fit_on_texts(corpus)\n",
        "total_words = len(tokenizer.word_index) + 1\n",
        "\n",
        "# create input sequences using list of tokens\n",
        "input_sequences = []\n",
        "for line in corpus:\n",
        "\ttoken_list = tokenizer.texts_to_sequences([line])[0]\n",
        "\tfor i in range(1, len(token_list)):\n",
        "\t\tn_gram_sequence = token_list[:i+1]\n",
        "\t\tinput_sequences.append(n_gram_sequence)\n",
        "\n",
        "\n",
        "# pad sequences \n",
        "max_sequence_len = max([len(x) for x in input_sequences])\n",
        "input_sequences = np.array(pad_sequences(input_sequences, maxlen=max_sequence_len, padding='pre'))\n",
        "\n",
        "# create predictors and label\n",
        "predictors, label = input_sequences[:,:-1],input_sequences[:,-1]\n",
        "\n",
        "label = ku.to_categorical(label, num_classes=total_words)"
      ],
      "execution_count": null,
      "outputs": [
        {
          "output_type": "stream",
          "text": [
            "--2020-07-06 19:39:52--  https://storage.googleapis.com/laurencemoroney-blog.appspot.com/sonnets.txt\n",
            "Resolving storage.googleapis.com (storage.googleapis.com)... 74.125.20.128, 74.125.142.128, 74.125.195.128, ...\n",
            "Connecting to storage.googleapis.com (storage.googleapis.com)|74.125.20.128|:443... connected.\n",
            "HTTP request sent, awaiting response... 200 OK\n",
            "Length: 93578 (91K) [text/plain]\n",
            "Saving to: ‘/tmp/sonnets.txt’\n",
            "\n",
            "\r/tmp/sonnets.txt      0%[                    ]       0  --.-KB/s               \r/tmp/sonnets.txt    100%[===================>]  91.38K  --.-KB/s    in 0.001s  \n",
            "\n",
            "2020-07-06 19:39:52 (98.2 MB/s) - ‘/tmp/sonnets.txt’ saved [93578/93578]\n",
            "\n"
          ],
          "name": "stdout"
        }
      ]
    },
    {
      "cell_type": "code",
      "metadata": {
        "colab_type": "code",
        "id": "w9vH8Y59ajYL",
        "colab": {
          "base_uri": "https://localhost:8080/",
          "height": 382
        },
        "outputId": "f39fd28c-77ad-4f55-9b2a-a15ce4f315dd"
      },
      "source": [
        "model = Sequential()\n",
        "model.add(Embedding(total_words, 100, input_length=max_sequence_len-1))\n",
        "model.add(Bidirectional(LSTM(150, return_sequences = True)))\n",
        "model.add(Dropout(0.2))\n",
        "model.add(LSTM(100))\n",
        "model.add(Dense(total_words/2, activation='relu', kernel_regularizer=regularizers.l2(0.01)))\n",
        "model.add(Dense(total_words, activation='softmax'))\n",
        "model.compile(loss='categorical_crossentropy', optimizer='adam', metrics=['accuracy'])\n",
        "print(model.summary())"
      ],
      "execution_count": null,
      "outputs": [
        {
          "output_type": "stream",
          "text": [
            "Model: \"sequential\"\n",
            "_________________________________________________________________\n",
            "Layer (type)                 Output Shape              Param #   \n",
            "=================================================================\n",
            "embedding (Embedding)        (None, 10, 100)           321100    \n",
            "_________________________________________________________________\n",
            "bidirectional (Bidirectional (None, 10, 300)           301200    \n",
            "_________________________________________________________________\n",
            "dropout (Dropout)            (None, 10, 300)           0         \n",
            "_________________________________________________________________\n",
            "lstm_1 (LSTM)                (None, 100)               160400    \n",
            "_________________________________________________________________\n",
            "dense (Dense)                (None, 1605)              162105    \n",
            "_________________________________________________________________\n",
            "dense_1 (Dense)              (None, 3211)              5156866   \n",
            "=================================================================\n",
            "Total params: 6,101,671\n",
            "Trainable params: 6,101,671\n",
            "Non-trainable params: 0\n",
            "_________________________________________________________________\n",
            "None\n"
          ],
          "name": "stdout"
        }
      ]
    },
    {
      "cell_type": "code",
      "metadata": {
        "colab_type": "code",
        "id": "AIg2f1HBxqof",
        "colab": {
          "base_uri": "https://localhost:8080/",
          "height": 1000
        },
        "outputId": "0b6bac71-3157-4293-ebbd-0d599ea12272"
      },
      "source": [
        " history = model.fit(predictors, label, epochs=100, verbose=1)"
      ],
      "execution_count": null,
      "outputs": [
        {
          "output_type": "stream",
          "text": [
            "Epoch 1/100\n",
            "484/484 [==============================] - 13s 26ms/step - loss: 6.9342 - accuracy: 0.0224\n",
            "Epoch 2/100\n",
            "484/484 [==============================] - 13s 26ms/step - loss: 6.5198 - accuracy: 0.0235\n",
            "Epoch 3/100\n",
            "484/484 [==============================] - 13s 26ms/step - loss: 6.3762 - accuracy: 0.0257\n",
            "Epoch 4/100\n",
            "484/484 [==============================] - 13s 26ms/step - loss: 6.2644 - accuracy: 0.0310\n",
            "Epoch 5/100\n",
            "484/484 [==============================] - 13s 26ms/step - loss: 6.1752 - accuracy: 0.0337\n",
            "Epoch 6/100\n",
            "484/484 [==============================] - 13s 26ms/step - loss: 6.0809 - accuracy: 0.0387\n",
            "Epoch 7/100\n",
            "484/484 [==============================] - 13s 26ms/step - loss: 5.9841 - accuracy: 0.0438\n",
            "Epoch 8/100\n",
            "484/484 [==============================] - 13s 27ms/step - loss: 5.8902 - accuracy: 0.0460\n",
            "Epoch 9/100\n",
            "484/484 [==============================] - 13s 26ms/step - loss: 5.7915 - accuracy: 0.0508\n",
            "Epoch 10/100\n",
            "484/484 [==============================] - 13s 26ms/step - loss: 5.6987 - accuracy: 0.0551\n",
            "Epoch 11/100\n",
            "484/484 [==============================] - 13s 26ms/step - loss: 5.6068 - accuracy: 0.0607\n",
            "Epoch 12/100\n",
            "484/484 [==============================] - 13s 26ms/step - loss: 5.5111 - accuracy: 0.0672\n",
            "Epoch 13/100\n",
            "484/484 [==============================] - 13s 26ms/step - loss: 5.4176 - accuracy: 0.0714\n",
            "Epoch 14/100\n",
            "484/484 [==============================] - 13s 26ms/step - loss: 5.3227 - accuracy: 0.0806\n",
            "Epoch 15/100\n",
            "484/484 [==============================] - 13s 26ms/step - loss: 5.2326 - accuracy: 0.0839\n",
            "Epoch 16/100\n",
            "484/484 [==============================] - 13s 26ms/step - loss: 5.1376 - accuracy: 0.0955\n",
            "Epoch 17/100\n",
            "484/484 [==============================] - 13s 26ms/step - loss: 5.0446 - accuracy: 0.1028\n",
            "Epoch 18/100\n",
            "484/484 [==============================] - 13s 26ms/step - loss: 4.9455 - accuracy: 0.1136\n",
            "Epoch 19/100\n",
            "484/484 [==============================] - 13s 26ms/step - loss: 4.8473 - accuracy: 0.1215\n",
            "Epoch 20/100\n",
            "484/484 [==============================] - 13s 26ms/step - loss: 4.7520 - accuracy: 0.1304\n",
            "Epoch 21/100\n",
            "484/484 [==============================] - 13s 26ms/step - loss: 4.6577 - accuracy: 0.1403\n",
            "Epoch 22/100\n",
            "484/484 [==============================] - 13s 26ms/step - loss: 4.5565 - accuracy: 0.1502\n",
            "Epoch 23/100\n",
            "484/484 [==============================] - 13s 26ms/step - loss: 4.4684 - accuracy: 0.1590\n",
            "Epoch 24/100\n",
            "484/484 [==============================] - 13s 26ms/step - loss: 4.3673 - accuracy: 0.1694\n",
            "Epoch 25/100\n",
            "484/484 [==============================] - 13s 26ms/step - loss: 4.2838 - accuracy: 0.1794\n",
            "Epoch 26/100\n",
            "484/484 [==============================] - 13s 26ms/step - loss: 4.1952 - accuracy: 0.1886\n",
            "Epoch 27/100\n",
            "484/484 [==============================] - 13s 26ms/step - loss: 4.1102 - accuracy: 0.1973\n",
            "Epoch 28/100\n",
            "484/484 [==============================] - 13s 26ms/step - loss: 4.0235 - accuracy: 0.2081\n",
            "Epoch 29/100\n",
            "484/484 [==============================] - 13s 26ms/step - loss: 3.9295 - accuracy: 0.2215\n",
            "Epoch 30/100\n",
            "484/484 [==============================] - 13s 26ms/step - loss: 3.8474 - accuracy: 0.2328\n",
            "Epoch 31/100\n",
            "484/484 [==============================] - 13s 26ms/step - loss: 3.7661 - accuracy: 0.2469\n",
            "Epoch 32/100\n",
            "484/484 [==============================] - 13s 27ms/step - loss: 3.6869 - accuracy: 0.2599\n",
            "Epoch 33/100\n",
            "484/484 [==============================] - 13s 26ms/step - loss: 3.6111 - accuracy: 0.2717\n",
            "Epoch 34/100\n",
            "484/484 [==============================] - 13s 26ms/step - loss: 3.5301 - accuracy: 0.2910\n",
            "Epoch 35/100\n",
            "484/484 [==============================] - 13s 26ms/step - loss: 3.4399 - accuracy: 0.3045\n",
            "Epoch 36/100\n",
            "484/484 [==============================] - 13s 26ms/step - loss: 3.3598 - accuracy: 0.3220\n",
            "Epoch 37/100\n",
            "484/484 [==============================] - 13s 26ms/step - loss: 3.2966 - accuracy: 0.3358\n",
            "Epoch 38/100\n",
            "484/484 [==============================] - 13s 26ms/step - loss: 3.2099 - accuracy: 0.3501\n",
            "Epoch 39/100\n",
            "484/484 [==============================] - 13s 26ms/step - loss: 3.1482 - accuracy: 0.3662\n",
            "Epoch 40/100\n",
            "484/484 [==============================] - 13s 26ms/step - loss: 3.0779 - accuracy: 0.3833\n",
            "Epoch 41/100\n",
            "484/484 [==============================] - 13s 26ms/step - loss: 3.0068 - accuracy: 0.3992\n",
            "Epoch 42/100\n",
            "484/484 [==============================] - 13s 26ms/step - loss: 2.9517 - accuracy: 0.4122\n",
            "Epoch 43/100\n",
            "484/484 [==============================] - 13s 26ms/step - loss: 2.8805 - accuracy: 0.4226\n",
            "Epoch 44/100\n",
            "484/484 [==============================] - 13s 26ms/step - loss: 2.8279 - accuracy: 0.4344\n",
            "Epoch 45/100\n",
            "484/484 [==============================] - 13s 26ms/step - loss: 2.7605 - accuracy: 0.4552\n",
            "Epoch 46/100\n",
            "484/484 [==============================] - 13s 26ms/step - loss: 2.6969 - accuracy: 0.4663\n",
            "Epoch 47/100\n",
            "484/484 [==============================] - 13s 26ms/step - loss: 2.6407 - accuracy: 0.4794\n",
            "Epoch 48/100\n",
            "484/484 [==============================] - 13s 26ms/step - loss: 2.5878 - accuracy: 0.4922\n",
            "Epoch 49/100\n",
            "484/484 [==============================] - 13s 26ms/step - loss: 2.5246 - accuracy: 0.5087\n",
            "Epoch 50/100\n",
            "484/484 [==============================] - 13s 26ms/step - loss: 2.4877 - accuracy: 0.5142\n",
            "Epoch 51/100\n",
            "484/484 [==============================] - 13s 26ms/step - loss: 2.4303 - accuracy: 0.5292\n",
            "Epoch 52/100\n",
            "484/484 [==============================] - 13s 26ms/step - loss: 2.3805 - accuracy: 0.5418\n",
            "Epoch 53/100\n",
            "484/484 [==============================] - 13s 26ms/step - loss: 2.3414 - accuracy: 0.5474\n",
            "Epoch 54/100\n",
            "484/484 [==============================] - 13s 26ms/step - loss: 2.2981 - accuracy: 0.5581\n",
            "Epoch 55/100\n",
            "484/484 [==============================] - 13s 26ms/step - loss: 2.2366 - accuracy: 0.5730\n",
            "Epoch 56/100\n",
            "484/484 [==============================] - 13s 26ms/step - loss: 2.2020 - accuracy: 0.5797\n",
            "Epoch 57/100\n",
            "484/484 [==============================] - 13s 27ms/step - loss: 2.1650 - accuracy: 0.5933\n",
            "Epoch 58/100\n",
            "484/484 [==============================] - 13s 26ms/step - loss: 2.1244 - accuracy: 0.5969\n",
            "Epoch 59/100\n",
            "484/484 [==============================] - 13s 26ms/step - loss: 2.0837 - accuracy: 0.6099\n",
            "Epoch 60/100\n",
            "484/484 [==============================] - 13s 26ms/step - loss: 2.0336 - accuracy: 0.6208\n",
            "Epoch 61/100\n",
            "484/484 [==============================] - 13s 26ms/step - loss: 2.0130 - accuracy: 0.6194\n",
            "Epoch 62/100\n",
            "484/484 [==============================] - 13s 26ms/step - loss: 1.9868 - accuracy: 0.6279\n",
            "Epoch 63/100\n",
            "484/484 [==============================] - 13s 26ms/step - loss: 1.9502 - accuracy: 0.6383\n",
            "Epoch 64/100\n",
            "484/484 [==============================] - 13s 26ms/step - loss: 1.8945 - accuracy: 0.6506\n",
            "Epoch 65/100\n",
            "484/484 [==============================] - 13s 26ms/step - loss: 1.8734 - accuracy: 0.6524\n",
            "Epoch 66/100\n",
            "484/484 [==============================] - 13s 26ms/step - loss: 1.8476 - accuracy: 0.6605\n",
            "Epoch 67/100\n",
            "484/484 [==============================] - 13s 26ms/step - loss: 1.8188 - accuracy: 0.6660\n",
            "Epoch 68/100\n",
            "484/484 [==============================] - 13s 26ms/step - loss: 1.7839 - accuracy: 0.6746\n",
            "Epoch 69/100\n",
            "484/484 [==============================] - 13s 26ms/step - loss: 1.7609 - accuracy: 0.6793\n",
            "Epoch 70/100\n",
            "484/484 [==============================] - 13s 26ms/step - loss: 1.7323 - accuracy: 0.6856\n",
            "Epoch 71/100\n",
            "484/484 [==============================] - 13s 26ms/step - loss: 1.6996 - accuracy: 0.6931\n",
            "Epoch 72/100\n",
            "484/484 [==============================] - 13s 26ms/step - loss: 1.6784 - accuracy: 0.6993\n",
            "Epoch 73/100\n",
            "484/484 [==============================] - 13s 26ms/step - loss: 1.6468 - accuracy: 0.7094\n",
            "Epoch 74/100\n",
            "484/484 [==============================] - 13s 26ms/step - loss: 1.6386 - accuracy: 0.7039\n",
            "Epoch 75/100\n",
            "484/484 [==============================] - 13s 26ms/step - loss: 1.6172 - accuracy: 0.7105\n",
            "Epoch 76/100\n",
            "484/484 [==============================] - 13s 26ms/step - loss: 1.5806 - accuracy: 0.7202\n",
            "Epoch 77/100\n",
            "484/484 [==============================] - 13s 26ms/step - loss: 1.5589 - accuracy: 0.7251\n",
            "Epoch 78/100\n",
            "484/484 [==============================] - 13s 26ms/step - loss: 1.5417 - accuracy: 0.7257\n",
            "Epoch 79/100\n",
            "484/484 [==============================] - 13s 26ms/step - loss: 1.5231 - accuracy: 0.7310\n",
            "Epoch 80/100\n",
            "484/484 [==============================] - 13s 26ms/step - loss: 1.4971 - accuracy: 0.7335\n",
            "Epoch 81/100\n",
            "484/484 [==============================] - 13s 27ms/step - loss: 1.4947 - accuracy: 0.7328\n",
            "Epoch 82/100\n",
            "484/484 [==============================] - 13s 26ms/step - loss: 1.4704 - accuracy: 0.7360\n",
            "Epoch 83/100\n",
            "484/484 [==============================] - 13s 26ms/step - loss: 1.4527 - accuracy: 0.7433\n",
            "Epoch 84/100\n",
            "484/484 [==============================] - 13s 26ms/step - loss: 1.4243 - accuracy: 0.7502\n",
            "Epoch 85/100\n",
            "484/484 [==============================] - 13s 26ms/step - loss: 1.4184 - accuracy: 0.7483\n",
            "Epoch 86/100\n",
            "484/484 [==============================] - 13s 26ms/step - loss: 1.4045 - accuracy: 0.7538\n",
            "Epoch 87/100\n",
            "484/484 [==============================] - 13s 26ms/step - loss: 1.3811 - accuracy: 0.7563\n",
            "Epoch 88/100\n",
            "484/484 [==============================] - 13s 26ms/step - loss: 1.3718 - accuracy: 0.7591\n",
            "Epoch 89/100\n",
            "484/484 [==============================] - 13s 26ms/step - loss: 1.3390 - accuracy: 0.7653\n",
            "Epoch 90/100\n",
            "484/484 [==============================] - 13s 26ms/step - loss: 1.3403 - accuracy: 0.7637\n",
            "Epoch 91/100\n",
            "484/484 [==============================] - 13s 26ms/step - loss: 1.3185 - accuracy: 0.7673\n",
            "Epoch 92/100\n",
            "484/484 [==============================] - 13s 26ms/step - loss: 1.3104 - accuracy: 0.7708\n",
            "Epoch 93/100\n",
            "484/484 [==============================] - 13s 26ms/step - loss: 1.2987 - accuracy: 0.7712\n",
            "Epoch 94/100\n",
            "484/484 [==============================] - 13s 26ms/step - loss: 1.2844 - accuracy: 0.7756\n",
            "Epoch 95/100\n",
            "484/484 [==============================] - 13s 26ms/step - loss: 1.2691 - accuracy: 0.7754\n",
            "Epoch 96/100\n",
            "484/484 [==============================] - 13s 26ms/step - loss: 1.2468 - accuracy: 0.7823\n",
            "Epoch 97/100\n",
            "484/484 [==============================] - 13s 26ms/step - loss: 1.2387 - accuracy: 0.7819\n",
            "Epoch 98/100\n",
            "484/484 [==============================] - 13s 26ms/step - loss: 1.2314 - accuracy: 0.7848\n",
            "Epoch 99/100\n",
            "484/484 [==============================] - 13s 26ms/step - loss: 1.2360 - accuracy: 0.7801\n",
            "Epoch 100/100\n",
            "484/484 [==============================] - 13s 26ms/step - loss: 1.2182 - accuracy: 0.7848\n"
          ],
          "name": "stdout"
        }
      ]
    },
    {
      "cell_type": "code",
      "metadata": {
        "colab_type": "code",
        "id": "1fXTEO3GJ282",
        "colab": {
          "base_uri": "https://localhost:8080/",
          "height": 545
        },
        "outputId": "d6adcec7-1a1e-4341-ec4d-cd900eb5f094"
      },
      "source": [
        "import matplotlib.pyplot as plt\n",
        "acc = history.history['accuracy']\n",
        "loss = history.history['loss']\n",
        "\n",
        "epochs = range(len(acc))\n",
        "\n",
        "plt.plot(epochs, acc, 'b', label='Training accuracy')\n",
        "plt.title('Training accuracy')\n",
        "\n",
        "plt.figure()\n",
        "\n",
        "plt.plot(epochs, loss, 'b', label='Training Loss')\n",
        "plt.title('Training loss')\n",
        "plt.legend()\n",
        "\n",
        "plt.show()"
      ],
      "execution_count": null,
      "outputs": [
        {
          "output_type": "display_data",
          "data": {
            "image/png": "[encoded data removed]",
            "text/plain": [
              "<Figure size 432x288 with 1 Axes>"
            ]
          },
          "metadata": {
            "tags": [],
            "needs_background": "light"
          }
        },
        {
          "output_type": "display_data",
          "data": {
            "image/png": "[encoded data removed]",
            "text/plain": [
              "<Figure size 432x288 with 1 Axes>"
            ]
          },
          "metadata": {
            "tags": [],
            "needs_background": "light"
          }
        }
      ]
    },
    {
      "cell_type": "code",
      "metadata": {
        "colab_type": "code",
        "id": "6Vc6PHgxa6Hm",
        "colab": {
          "base_uri": "https://localhost:8080/",
          "height": 106
        },
        "outputId": "247b50e2-82fa-4d0b-c32d-bb551b39d96b"
      },
      "source": [
        "seed_text = \"Help me Obi Wan Kenobi, you're my only hope\"\n",
        "next_words = 100\n",
        "  \n",
        "for _ in range(next_words):\n",
        "\ttoken_list = tokenizer.texts_to_sequences([seed_text])[0]\n",
        "\ttoken_list = pad_sequences([token_list], maxlen=max_sequence_len-1, padding='pre')\n",
        "\tpredicted = model.predict_classes(token_list, verbose=0)\n",
        "\toutput_word = \"\"\n",
        "\tfor word, index in tokenizer.word_index.items():\n",
        "\t\tif index == predicted:\n",
        "\t\t\toutput_word = word\n",
        "\t\t\tbreak\n",
        "\tseed_text += \" \" + output_word\n",
        "print(seed_text)"
      ],
      "execution_count": null,
      "outputs": [
        {
          "output_type": "stream",
          "text": [
            "WARNING:tensorflow:From <ipython-input-6-622d307fa19a>:7: Sequential.predict_classes (from tensorflow.python.keras.engine.sequential) is deprecated and will be removed after 2021-01-01.\n",
            "Instructions for updating:\n",
            "Please use instead:* `np.argmax(model.predict(x), axis=-1)`,   if your model does multi-class classification   (e.g. if it uses a `softmax` last-layer activation).* `(model.predict(x) > 0.5).astype(\"int32\")`,   if your model does binary classification   (e.g. if it uses a `sigmoid` last-layer activation).\n",
            "Help me Obi Wan Kenobi, you're my only hope to dwell he scope hath wit to be young doth stain new prove face new new forth him so eyes have much made that groan and you am in my mind by day did strive to prove eyes exceeds strife taken light light light light light light new subdued decay new wit new what give me and many one lies should dwell know worth beauty new brain did proceed thought hate away what give my life provide decay ' have seen best releasing dote light end lived prove told time cold stay things skill cross'd go history asleep free light\n"
          ],
          "name": "stdout"
        }
      ]
    }
  ]
}